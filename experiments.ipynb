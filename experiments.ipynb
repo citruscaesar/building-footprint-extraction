{
  "cells": [
    {
      "cell_type": "markdown",
      "metadata": {
        "id": "view-in-github",
        "colab_type": "text"
      },
      "source": [
        "<a href=\"https://colab.research.google.com/github/citruscaesar/building-footprint-extraction/blob/main/experiments.ipynb\" target=\"_parent\"><img src=\"https://colab.research.google.com/assets/colab-badge.svg\" alt=\"Open In Colab\"/></a>"
      ]
    },
    {
      "cell_type": "markdown",
      "metadata": {
        "id": "-5Il118pv65d"
      },
      "source": [
        "### Download Dependencies"
      ]
    },
    {
      "cell_type": "code",
      "execution_count": null,
      "metadata": {
        "id": "q3Cnj-44v65h"
      },
      "outputs": [],
      "source": [
        "!pip install rasterio\n",
        "!pip install lightning\n",
        "!pip install torchmetrics\n",
        "!pip install wandb\n",
        "!pip install segmentation-models-pytorch\n",
        "!clear"
      ]
    },
    {
      "cell_type": "code",
      "source": [
        "!git clone https://github.com/citruscaesar/building-footprint-extraction.git\n",
        "!mkdir -p /content/src\n",
        "!cp -r /content/building-footprint-extraction/src/ /content/"
      ],
      "metadata": {
        "id": "PsjDh3SqwOzR",
        "outputId": "9f947db4-aafa-4d03-b3a1-e2f2254e99e4",
        "colab": {
          "base_uri": "https://localhost:8080/"
        }
      },
      "execution_count": null,
      "outputs": [
        {
          "output_type": "stream",
          "name": "stdout",
          "text": [
            "Cloning into 'building-footprint-extraction'...\n",
            "remote: Enumerating objects: 19, done.\u001b[K\n",
            "remote: Counting objects: 100% (19/19), done.\u001b[K\n",
            "remote: Compressing objects: 100% (18/18), done.\u001b[K\n",
            "remote: Total 19 (delta 1), reused 15 (delta 0), pack-reused 0\u001b[K\n",
            "Unpacking objects: 100% (19/19), 1.76 MiB | 1.14 MiB/s, done.\n"
          ]
        }
      ]
    },
    {
      "cell_type": "code",
      "source": [
        "!ls"
      ],
      "metadata": {
        "id": "8U7uUXcZyOIX",
        "outputId": "591edbaf-5f57-4ed2-9de5-e525b769bffe",
        "colab": {
          "base_uri": "https://localhost:8080/"
        }
      },
      "execution_count": null,
      "outputs": [
        {
          "output_type": "stream",
          "name": "stdout",
          "text": [
            "building-footprint-extraction  sample_data  src\n"
          ]
        }
      ]
    },
    {
      "cell_type": "markdown",
      "metadata": {
        "id": "aYaAixDov65i"
      },
      "source": [
        "### Imports and Config"
      ]
    },
    {
      "cell_type": "code",
      "execution_count": null,
      "metadata": {
        "id": "Gsi0y9sov65j"
      },
      "outputs": [],
      "source": [
        "import os\n",
        "from pathlib import Path\n",
        "import numpy as np\n",
        "import pandas as pd\n",
        "import matplotlib.pyplot as plt\n",
        "import rasterio as rio\n",
        "\n",
        "import torch\n",
        "from torch.utils.data import Dataset, DataLoader\n",
        "from torchvision import transforms\n",
        "\n",
        "import pytorch_lightning as pl\n",
        "import torchmetrics \n",
        "from torchmetrics import MetricCollection\n",
        "from torchmetrics.classification import BinaryJaccardIndex, BinaryConfusionMatrix, BinaryF1Score, BinaryCohenKappa\n",
        "\n",
        "import wandb\n",
        "from pytorch_lightning.loggers import WandbLogger, CSVLogger\n",
        "\n",
        "import segmentation_models_pytorch as smp\n",
        "from segmentation_models_pytorch.encoders import get_preprocessing_fn\n",
        "\n",
        "from src.datamodule import InariaDataModule"
      ]
    },
    {
      "cell_type": "code",
      "execution_count": null,
      "metadata": {
        "id": "Sf5Xr_ppv65k",
        "outputId": "dc8997bc-2409-4f61-b5b8-9d938c9bfdc0",
        "colab": {
          "base_uri": "https://localhost:8080/"
        }
      },
      "outputs": [
        {
          "output_type": "stream",
          "name": "stdout",
          "text": [
            "Pytorch Version: 2.0.0+cu118\n",
            "Lightning Version: 2.0.1\n",
            "Pytorch Running on :cuda\n",
            "PyTorch built with:\n",
            "  - GCC 9.3\n",
            "  - C++ Version: 201703\n",
            "  - Intel(R) oneAPI Math Kernel Library Version 2022.2-Product Build 20220804 for Intel(R) 64 architecture applications\n",
            "  - Intel(R) MKL-DNN v2.7.3 (Git Hash 6dbeffbae1f23cbbeae17adb7b5b13f1f37c080e)\n",
            "  - OpenMP 201511 (a.k.a. OpenMP 4.5)\n",
            "  - LAPACK is enabled (usually provided by MKL)\n",
            "  - NNPACK is enabled\n",
            "  - CPU capability usage: AVX2\n",
            "  - CUDA Runtime 11.8\n",
            "  - NVCC architecture flags: -gencode;arch=compute_37,code=sm_37;-gencode;arch=compute_50,code=sm_50;-gencode;arch=compute_60,code=sm_60;-gencode;arch=compute_70,code=sm_70;-gencode;arch=compute_75,code=sm_75;-gencode;arch=compute_80,code=sm_80;-gencode;arch=compute_86,code=sm_86;-gencode;arch=compute_90,code=sm_90\n",
            "  - CuDNN 8.7\n",
            "  - Magma 2.6.1\n",
            "  - Build settings: BLAS_INFO=mkl, BUILD_TYPE=Release, CUDA_VERSION=11.8, CUDNN_VERSION=8.7.0, CXX_COMPILER=/opt/rh/devtoolset-9/root/usr/bin/c++, CXX_FLAGS= -D_GLIBCXX_USE_CXX11_ABI=0 -fabi-version=11 -Wno-deprecated -fvisibility-inlines-hidden -DUSE_PTHREADPOOL -DNDEBUG -DUSE_KINETO -DLIBKINETO_NOROCTRACER -DUSE_FBGEMM -DUSE_QNNPACK -DUSE_PYTORCH_QNNPACK -DUSE_XNNPACK -DSYMBOLICATE_MOBILE_DEBUG_HANDLE -O2 -fPIC -Wall -Wextra -Werror=return-type -Werror=non-virtual-dtor -Werror=bool-operation -Wnarrowing -Wno-missing-field-initializers -Wno-type-limits -Wno-array-bounds -Wno-unknown-pragmas -Wunused-local-typedefs -Wno-unused-parameter -Wno-unused-function -Wno-unused-result -Wno-strict-overflow -Wno-strict-aliasing -Wno-error=deprecated-declarations -Wno-stringop-overflow -Wno-psabi -Wno-error=pedantic -Wno-error=redundant-decls -Wno-error=old-style-cast -fdiagnostics-color=always -faligned-new -Wno-unused-but-set-variable -Wno-maybe-uninitialized -fno-math-errno -fno-trapping-math -Werror=format -Werror=cast-function-type -Wno-stringop-overflow, LAPACK_INFO=mkl, PERF_WITH_AVX=1, PERF_WITH_AVX2=1, PERF_WITH_AVX512=1, TORCH_DISABLE_GPU_ASSERTS=ON, TORCH_VERSION=2.0.0, USE_CUDA=ON, USE_CUDNN=ON, USE_EXCEPTION_PTR=1, USE_GFLAGS=OFF, USE_GLOG=OFF, USE_MKL=ON, USE_MKLDNN=ON, USE_MPI=OFF, USE_NCCL=1, USE_NNPACK=ON, USE_OPENMP=ON, USE_ROCM=OFF, \n",
            "\n"
          ]
        }
      ],
      "source": [
        "DEVICE = torch.device(\"cuda\" if torch.cuda.is_available() else \"cpu\")\n",
        "print(f\"Pytorch Version: {torch.__version__}\")\n",
        "print(f\"Lightning Version: {pl.__version__}\")\n",
        "print(f\"Pytorch Running on :{DEVICE}\")\n",
        "print(torch.__config__.show())"
      ]
    },
    {
      "cell_type": "code",
      "source": [
        "from google.colab import drive\n",
        "drive.mount('/content/drive')"
      ],
      "metadata": {
        "id": "RYk0uiHVyecs",
        "outputId": "002dc42f-d9a0-4e82-ce38-e0e24d92e9a5",
        "colab": {
          "base_uri": "https://localhost:8080/"
        }
      },
      "execution_count": null,
      "outputs": [
        {
          "output_type": "stream",
          "name": "stdout",
          "text": [
            "Mounted at /content/drive\n"
          ]
        }
      ]
    },
    {
      "cell_type": "code",
      "source": [
        "!unzip /content/drive/MyDrive/datasets/inria/archive/NEW2-AerialImageDataset.zip -d /content/drive/MyDrive/datasets/inria/"
      ],
      "metadata": {
        "id": "SIU0nBfR1mPC"
      },
      "execution_count": null,
      "outputs": []
    },
    {
      "cell_type": "code",
      "execution_count": null,
      "metadata": {
        "id": "dpJeyybov65m"
      },
      "outputs": [],
      "source": [
        "DATA = Path(\"/content/drive/MyDrive/datasets/inria/train\")\n",
        "#DATA = Path(\"/media/sambhav/30AC4696AC46568E/datasets/inaria/train\")"
      ]
    },
    {
      "cell_type": "markdown",
      "metadata": {
        "id": "p08x9eYUv65n"
      },
      "source": [
        "### Segmentation Module"
      ]
    },
    {
      "cell_type": "code",
      "execution_count": null,
      "metadata": {
        "id": "bw0K6S-zv65n"
      },
      "outputs": [],
      "source": [
        "class SegModule(pl.LightningModule):\n",
        "    def __init__(self, model, preprocess, learning_rate):\n",
        "        super().__init__()\n",
        "        self.model = model\n",
        "        self.preprocess_fn = preprocess\n",
        "        self.loss = smp.losses.DiceLoss(smp.losses.BINARY_MODE, from_logits = True)\n",
        "\n",
        "        self.save_hyperparameters(ignore = [\"model\", \"preprocess\"])\n",
        "\n",
        "        self.val_metrics = MetricCollection([\n",
        "            BinaryF1Score(),\n",
        "            BinaryJaccardIndex(),\n",
        "            BinaryCohenKappa(),\n",
        "        ], prefix = \"Validation \")\n",
        "\n",
        "        self.test_metrics = MetricCollection([\n",
        "            BinaryF1Score(),\n",
        "            BinaryJaccardIndex(),\n",
        "            BinaryCohenKappa(),\n",
        "        ], prefix = \"Test \")\n",
        "\n",
        "\n",
        "    def forward(self, batch):\n",
        "        mask = self.model(batch) \n",
        "        return mask\n",
        "        \n",
        "    def training_step(self, batch, batch_idx):\n",
        "        scene, mask = batch\n",
        "        pred_mask = self.model(scene)\n",
        "        loss = self.loss(pred_mask, mask) \n",
        "        self.log(\"train/loss\", loss.item(), on_epoch = True, on_step=True, prog_bar=True)\n",
        "        return loss\n",
        "    \n",
        "    def validation_step(self, batch, batch_idx):\n",
        "        scene, mask = batch\n",
        "        pred_mask = self.model(scene)\n",
        "        loss = self.loss(pred_mask, mask)\n",
        "        self.log(\"val/loss\", loss.item(), on_epoch=True)\n",
        "\n",
        "        self.val_metrics.update(pred_mask, mask)\n",
        "        self.log_dict(self.val_metrics, on_epoch=True)\n",
        "\n",
        "    def test_step(self, batch, batch_idx):\n",
        "        scene, mask = batch\n",
        "        pred_mask = self.model(scene)\n",
        "        loss = self.loss(pred_mask, mask)\n",
        "        self.log(\"test/loss\", loss.item(), on_epoch=True)\n",
        "\n",
        "        self.test_metrics.update(pred_mask, mask)\n",
        "        self.log_dict(self.test_metrics, on_epoch=True)\n",
        "\n",
        "    def configure_optimizers(self):\n",
        "        optimizer = torch.optim.Adam(self.model.parameters(), lr = self.hparams.learning_rate)\n",
        "        return optimizer"
      ]
    },
    {
      "cell_type": "markdown",
      "metadata": {
        "id": "eMoXW5-6v65o"
      },
      "source": [
        "### Experiments"
      ]
    },
    {
      "cell_type": "code",
      "execution_count": null,
      "metadata": {
        "id": "ag2PK6WUv65p",
        "outputId": "af8492ec-b61b-42c1-9137-0d3771fb480c"
      },
      "outputs": [
        {
          "name": "stderr",
          "output_type": "stream",
          "text": [
            "Global seed set to 69\n"
          ]
        },
        {
          "data": {
            "text/plain": [
              "69"
            ]
          },
          "execution_count": 6,
          "metadata": {},
          "output_type": "execute_result"
        }
      ],
      "source": [
        "pl.seed_everything(seed = 69, workers = True)"
      ]
    },
    {
      "cell_type": "code",
      "execution_count": null,
      "metadata": {
        "id": "cuRsd7Suv65q"
      },
      "outputs": [],
      "source": [
        "unet = smp.Unet(\"resnet18\", encoder_weights=\"imagenet\", in_channels=3, classes = 1)\n",
        "preprocess = get_preprocessing_fn(\"resnet18\", \"imagenet\")"
      ]
    },
    {
      "cell_type": "code",
      "execution_count": null,
      "metadata": {
        "id": "1B95d2OYv65r"
      },
      "outputs": [],
      "source": [
        "dm = InariaDataModule(DATA, batch_size = 8)"
      ]
    },
    {
      "cell_type": "code",
      "execution_count": null,
      "metadata": {
        "id": "QvWKejRIv65r",
        "outputId": "7a8a6c55-6395-4c42-9390-45e605dde32d",
        "colab": {
          "referenced_widgets": [
            "1656dcbfdd8d40ffa0b00cd4f33bd2e0",
            "7b470ff082654e38a5f4a02d2e2b7147"
          ]
        }
      },
      "outputs": [
        {
          "data": {
            "text/html": [
              "Waiting for W&B process to finish... <strong style=\"color:green\">(success).</strong>"
            ],
            "text/plain": [
              "<IPython.core.display.HTML object>"
            ]
          },
          "metadata": {},
          "output_type": "display_data"
        },
        {
          "data": {
            "application/vnd.jupyter.widget-view+json": {
              "model_id": "1656dcbfdd8d40ffa0b00cd4f33bd2e0",
              "version_major": 2,
              "version_minor": 0
            },
            "text/plain": [
              "VBox(children=(Label(value='0.003 MB of 0.003 MB uploaded (0.000 MB deduped)\\r'), FloatProgress(value=1.0, max…"
            ]
          },
          "metadata": {},
          "output_type": "display_data"
        },
        {
          "data": {
            "text/html": [
              " View run <strong style=\"color:#cdcd00\">rural-plasma-4</strong> at: <a href='https://wandb.ai/metacognition/segmentation-testing/runs/x0q04rqk' target=\"_blank\">https://wandb.ai/metacognition/segmentation-testing/runs/x0q04rqk</a><br/>Synced 6 W&B file(s), 0 media file(s), 0 artifact file(s) and 0 other file(s)"
            ],
            "text/plain": [
              "<IPython.core.display.HTML object>"
            ]
          },
          "metadata": {},
          "output_type": "display_data"
        },
        {
          "data": {
            "text/html": [
              "Find logs at: <code>./logs/wandb/run-20230411_171142-x0q04rqk/logs</code>"
            ],
            "text/plain": [
              "<IPython.core.display.HTML object>"
            ]
          },
          "metadata": {},
          "output_type": "display_data"
        },
        {
          "data": {
            "text/html": [
              "Changes to your `wandb` environment variables will be ignored because your `wandb` session has already started. For more information on how to modify your settings with `wandb.init()` arguments, please refer to <a href='https://wandb.me/wandb-init' target=\"_blank\">the W&B docs</a>."
            ],
            "text/plain": [
              "<IPython.core.display.HTML object>"
            ]
          },
          "metadata": {},
          "output_type": "display_data"
        },
        {
          "data": {
            "application/vnd.jupyter.widget-view+json": {
              "model_id": "7b470ff082654e38a5f4a02d2e2b7147",
              "version_major": 2,
              "version_minor": 0
            },
            "text/plain": [
              "VBox(children=(Label(value='Waiting for wandb.init()...\\r'), FloatProgress(value=0.016669695266652223, max=1.0…"
            ]
          },
          "metadata": {},
          "output_type": "display_data"
        },
        {
          "data": {
            "text/html": [
              "Tracking run with wandb version 0.14.2"
            ],
            "text/plain": [
              "<IPython.core.display.HTML object>"
            ]
          },
          "metadata": {},
          "output_type": "display_data"
        },
        {
          "data": {
            "text/html": [
              "Run data is saved locally in <code>./logs/wandb/run-20230411_171353-tfzph1h2</code>"
            ],
            "text/plain": [
              "<IPython.core.display.HTML object>"
            ]
          },
          "metadata": {},
          "output_type": "display_data"
        },
        {
          "data": {
            "text/html": [
              "Syncing run <strong><a href='https://wandb.ai/metacognition/bulding-segmentation-tests/runs/tfzph1h2' target=\"_blank\">elated-lake-1</a></strong> to <a href='https://wandb.ai/metacognition/bulding-segmentation-tests' target=\"_blank\">Weights & Biases</a> (<a href='https://wandb.me/run' target=\"_blank\">docs</a>)<br/>"
            ],
            "text/plain": [
              "<IPython.core.display.HTML object>"
            ]
          },
          "metadata": {},
          "output_type": "display_data"
        },
        {
          "data": {
            "text/html": [
              " View project at <a href='https://wandb.ai/metacognition/bulding-segmentation-tests' target=\"_blank\">https://wandb.ai/metacognition/bulding-segmentation-tests</a>"
            ],
            "text/plain": [
              "<IPython.core.display.HTML object>"
            ]
          },
          "metadata": {},
          "output_type": "display_data"
        },
        {
          "data": {
            "text/html": [
              " View run at <a href='https://wandb.ai/metacognition/bulding-segmentation-tests/runs/tfzph1h2' target=\"_blank\">https://wandb.ai/metacognition/bulding-segmentation-tests/runs/tfzph1h2</a>"
            ],
            "text/plain": [
              "<IPython.core.display.HTML object>"
            ]
          },
          "metadata": {},
          "output_type": "display_data"
        }
      ],
      "source": [
        "os.environ[\"WANDB_NOTEBOOK_NAME\"] = \"experiments\"\n",
        "wandb.finish()\n",
        "wandblogger = WandbLogger(\n",
        "    project = \"bulding-segmentation-tests\",\n",
        "    save_dir = \"./logs/\"\n",
        ") "
      ]
    },
    {
      "cell_type": "code",
      "execution_count": null,
      "metadata": {
        "id": "yODWdJmJv65s",
        "outputId": "c1ba8704-7faf-483d-8b23-32e02bf37b87"
      },
      "outputs": [
        {
          "name": "stderr",
          "output_type": "stream",
          "text": [
            "GPU available: True (cuda), used: True\n",
            "TPU available: False, using: 0 TPU cores\n",
            "IPU available: False, using: 0 IPUs\n",
            "HPU available: False, using: 0 HPUs\n",
            "Running in `fast_dev_run` mode: will run the requested loop using 1 batch(es). Logging and checkpointing is suppressed.\n",
            "GPU available: True (cuda), used: True\n",
            "TPU available: False, using: 0 TPU cores\n",
            "IPU available: False, using: 0 IPUs\n",
            "HPU available: False, using: 0 HPUs\n"
          ]
        }
      ],
      "source": [
        "dev_trainer = pl.Trainer(\n",
        "    accelerator = \"gpu\",\n",
        "    fast_dev_run = 1\n",
        ")\n",
        "\n",
        "trainer = pl.Trainer(\n",
        "    accelerator = \"gpu\",\n",
        "    accumulate_grad_batches = 2,\n",
        "    limit_train_batches = .25,\n",
        "    max_epochs = 4,\n",
        "    logger = [wandblogger],\n",
        "    check_val_every_n_epochs = 1\n",
        ")"
      ]
    },
    {
      "cell_type": "code",
      "execution_count": null,
      "metadata": {
        "id": "vOE34ypSv65s"
      },
      "outputs": [],
      "source": [
        "model = SegModule(unet, preprocess, 3e-4)"
      ]
    },
    {
      "cell_type": "code",
      "execution_count": null,
      "metadata": {
        "id": "1H6_GvOQv65t",
        "outputId": "633edd5a-2eba-44af-f2c3-27f662bb289f",
        "colab": {
          "referenced_widgets": [
            "bdb9da7ab28349f9bb5c1d4dcae6a427",
            "ca27bf794e224fdb8415d2992b4988f4"
          ]
        }
      },
      "outputs": [
        {
          "name": "stderr",
          "output_type": "stream",
          "text": [
            "LOCAL_RANK: 0 - CUDA_VISIBLE_DEVICES: [0]\n",
            "\n",
            "  | Name         | Type             | Params\n",
            "--------------------------------------------------\n",
            "0 | model        | Unet             | 14.3 M\n",
            "1 | loss         | DiceLoss         | 0     \n",
            "2 | val_metrics  | MetricCollection | 0     \n",
            "3 | test_metrics | MetricCollection | 0     \n",
            "--------------------------------------------------\n",
            "14.3 M    Trainable params\n",
            "0         Non-trainable params\n",
            "14.3 M    Total params\n",
            "57.313    Total estimated model params size (MB)\n",
            "/home/sambhav/bin/anaconda3/envs/ml/lib/python3.9/site-packages/pytorch_lightning/trainer/trainer.py:1609: PossibleUserWarning: The number of training batches (1) is smaller than the logging interval Trainer(log_every_n_steps=50). Set a lower value for log_every_n_steps if you want to see logs for the training epoch.\n",
            "  rank_zero_warn(\n"
          ]
        },
        {
          "data": {
            "application/vnd.jupyter.widget-view+json": {
              "model_id": "bdb9da7ab28349f9bb5c1d4dcae6a427",
              "version_major": 2,
              "version_minor": 0
            },
            "text/plain": [
              "Training: 0it [00:00, ?it/s]"
            ]
          },
          "metadata": {},
          "output_type": "display_data"
        },
        {
          "data": {
            "application/vnd.jupyter.widget-view+json": {
              "model_id": "ca27bf794e224fdb8415d2992b4988f4",
              "version_major": 2,
              "version_minor": 0
            },
            "text/plain": [
              "Validation: 0it [00:00, ?it/s]"
            ]
          },
          "metadata": {},
          "output_type": "display_data"
        },
        {
          "name": "stderr",
          "output_type": "stream",
          "text": [
            "`Trainer.fit` stopped: `max_steps=1` reached.\n"
          ]
        }
      ],
      "source": [
        "trainer.fit(model, datamodule = dm)"
      ]
    },
    {
      "cell_type": "code",
      "execution_count": null,
      "metadata": {
        "id": "bj-7zJ8jv65t",
        "outputId": "2f174f0b-e2f1-4d97-e82c-4512400bcbd4",
        "colab": {
          "referenced_widgets": [
            "5348cfd39e3f451e8b19a3e3d20380a8"
          ]
        }
      },
      "outputs": [
        {
          "name": "stderr",
          "output_type": "stream",
          "text": [
            "LOCAL_RANK: 0 - CUDA_VISIBLE_DEVICES: [0]\n"
          ]
        },
        {
          "data": {
            "application/vnd.jupyter.widget-view+json": {
              "model_id": "5348cfd39e3f451e8b19a3e3d20380a8",
              "version_major": 2,
              "version_minor": 0
            },
            "text/plain": [
              "Testing: 0it [00:00, ?it/s]"
            ]
          },
          "metadata": {},
          "output_type": "display_data"
        },
        {
          "data": {
            "text/html": [
              "<pre style=\"white-space:pre;overflow-x:auto;line-height:normal;font-family:Menlo,'DejaVu Sans Mono',consolas,'Courier New',monospace\">┏━━━━━━━━━━━━━━━━━━━━━━━━━━━┳━━━━━━━━━━━━━━━━━━━━━━━━━━━┓\n",
              "┃<span style=\"font-weight: bold\">        Test metric        </span>┃<span style=\"font-weight: bold\">       DataLoader 0        </span>┃\n",
              "┡━━━━━━━━━━━━━━━━━━━━━━━━━━━╇━━━━━━━━━━━━━━━━━━━━━━━━━━━┩\n",
              "│<span style=\"color: #008080; text-decoration-color: #008080\">         Testdice          </span>│<span style=\"color: #800080; text-decoration-color: #800080\">    0.8247647285461426     </span>│\n",
              "│<span style=\"color: #008080; text-decoration-color: #008080\">          Testiou          </span>│<span style=\"color: #800080; text-decoration-color: #800080\">     0.701786994934082     </span>│\n",
              "│<span style=\"color: #008080; text-decoration-color: #008080\">         Testkappa         </span>│<span style=\"color: #800080; text-decoration-color: #800080\">    0.7972214818000793     </span>│\n",
              "│<span style=\"color: #008080; text-decoration-color: #008080\">         test/loss         </span>│<span style=\"color: #800080; text-decoration-color: #800080\">    0.22622278332710266    </span>│\n",
              "└───────────────────────────┴───────────────────────────┘\n",
              "</pre>\n"
            ],
            "text/plain": [
              "┏━━━━━━━━━━━━━━━━━━━━━━━━━━━┳━━━━━━━━━━━━━━━━━━━━━━━━━━━┓\n",
              "┃\u001b[1m \u001b[0m\u001b[1m       Test metric       \u001b[0m\u001b[1m \u001b[0m┃\u001b[1m \u001b[0m\u001b[1m      DataLoader 0       \u001b[0m\u001b[1m \u001b[0m┃\n",
              "┡━━━━━━━━━━━━━━━━━━━━━━━━━━━╇━━━━━━━━━━━━━━━━━━━━━━━━━━━┩\n",
              "│\u001b[36m \u001b[0m\u001b[36m        Testdice         \u001b[0m\u001b[36m \u001b[0m│\u001b[35m \u001b[0m\u001b[35m   0.8247647285461426    \u001b[0m\u001b[35m \u001b[0m│\n",
              "│\u001b[36m \u001b[0m\u001b[36m         Testiou         \u001b[0m\u001b[36m \u001b[0m│\u001b[35m \u001b[0m\u001b[35m    0.701786994934082    \u001b[0m\u001b[35m \u001b[0m│\n",
              "│\u001b[36m \u001b[0m\u001b[36m        Testkappa        \u001b[0m\u001b[36m \u001b[0m│\u001b[35m \u001b[0m\u001b[35m   0.7972214818000793    \u001b[0m\u001b[35m \u001b[0m│\n",
              "│\u001b[36m \u001b[0m\u001b[36m        test/loss        \u001b[0m\u001b[36m \u001b[0m│\u001b[35m \u001b[0m\u001b[35m   0.22622278332710266   \u001b[0m\u001b[35m \u001b[0m│\n",
              "└───────────────────────────┴───────────────────────────┘\n"
            ]
          },
          "metadata": {},
          "output_type": "display_data"
        },
        {
          "data": {
            "text/plain": [
              "[{'test/loss': 0.22622278332710266,\n",
              "  'Testdice': 0.8247647285461426,\n",
              "  'Testiou': 0.701786994934082,\n",
              "  'Testkappa': 0.7972214818000793}]"
            ]
          },
          "execution_count": 40,
          "metadata": {},
          "output_type": "execute_result"
        }
      ],
      "source": [
        "trainer.test(model, datamodule = dm)"
      ]
    },
    {
      "cell_type": "code",
      "execution_count": null,
      "metadata": {
        "id": "e8qA_JVGv65u"
      },
      "outputs": [],
      "source": [
        "wandb.finish()"
      ]
    }
  ],
  "metadata": {
    "kernelspec": {
      "display_name": "ml",
      "language": "python",
      "name": "python3"
    },
    "language_info": {
      "codemirror_mode": {
        "name": "ipython",
        "version": 3
      },
      "file_extension": ".py",
      "mimetype": "text/x-python",
      "name": "python",
      "nbconvert_exporter": "python",
      "pygments_lexer": "ipython3",
      "version": "3.9.15"
    },
    "orig_nbformat": 4,
    "colab": {
      "provenance": [],
      "gpuType": "T4",
      "include_colab_link": true
    },
    "accelerator": "GPU",
    "gpuClass": "standard"
  },
  "nbformat": 4,
  "nbformat_minor": 0
}