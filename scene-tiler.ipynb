{
 "cells": [
  {
   "cell_type": "code",
   "execution_count": 4,
   "metadata": {},
   "outputs": [],
   "source": [
    "import pathlib\n",
    "import numpy as np\n",
    "import pandas as pd\n",
    "import matplotlib.pyplot as plt\n",
    "\n",
    "import rasterio as rio"
   ]
  },
  {
   "cell_type": "code",
   "execution_count": 90,
   "metadata": {},
   "outputs": [],
   "source": [
    "class SceneTiler():\n",
    "    def __init__(self, scenes_dir, tile_shape):\n",
    "        self.root = pathlib.Path(scenes_dir)\n",
    "        self.tile_shape = tile_shape\n",
    "        self.tile_path = self.root.parent / f\"{self.root.stem}-crop{self.tile_shape[0]}-{self.tile_shape[1]}\"\n",
    "\n",
    "    def _get_2d_window_coords(self, scene_shape, tile_shape) -> list:\n",
    "        window_coords = list()\n",
    "        (num_windows_x, remainder_x), (num_windows_y, remainder_y) = divmod(scene_shape[0], tile_shape[0]), divmod(scene_shape[1], tile_shape[1])\n",
    "\n",
    "        if not remainder_x:\n",
    "            num_windows_x -= 1\n",
    "        \n",
    "        if not remainder_y:\n",
    "            num_windows_y -= 1\n",
    "\n",
    "        for y_incr in range(num_windows_y+1):\n",
    "            for x_incr in range(num_windows_x+1):\n",
    "\n",
    "                x_coordinate = x_incr * tile_shape[0]\n",
    "                y_coordinate = y_incr * tile_shape[1]\n",
    "\n",
    "                window_coords.append((x_coordinate, y_coordinate))\n",
    "                if x_incr == num_windows_x:\n",
    "                    window_coords.append((scene_shape[0] - tile_shape[0], y_coordinate))\n",
    "                if y_incr == num_windows_y:\n",
    "                    window_coords.append((x_coordinate, scene_shape[1] - tile_shape[0]))\n",
    "        return window_coords\n",
    "\n",
    "    def _scene_tiler(self, scene_path) -> None:\n",
    "        with rio.open(scene_path) as scene:\n",
    "            window_clips = self._get_2d_window_coords(scene.shape, self.tile_shape)\n",
    "            scene_name = scene.name.split('/')[-1].split('.')[0]\n",
    "            profile = scene.profile\n",
    "\n",
    "            for row, col in window_clips:\n",
    "                window = rio.windows.Window(row, col, self.tile_shape[0], self.tile_shape[1])        \n",
    "                transform = scene.window_transform(window)\n",
    "                profile.update({\n",
    "                    'width': self.tile_shape[0],\n",
    "                    'height': self.tile_shape[1],\n",
    "                    'transform': transform\n",
    "                })\n",
    "                tile_path = self.tile_path / f\"{scene_name}_{row}_{col}.tif\"\n",
    "                with rio.open(tile_path.as_posix(), 'w', **profile) as tile:\n",
    "                    tile.write(scene.read(window = window))\n",
    "\n",
    "    def tile(self) -> None:\n",
    "        self.tile_path.mkdir(parents = True, exist_ok = True)\n",
    "        for scene_path in self.root.iterdir():\n",
    "            self._scene_tiler(scene_path.as_posix())\n",
    "            break"
   ]
  },
  {
   "cell_type": "code",
   "execution_count": 91,
   "metadata": {},
   "outputs": [],
   "source": [
    "DATA = pathlib.Path(\"/media/sambhav/30AC4696AC46568E/datasets/inaria\")\n",
    "TRAIN  = DATA / \"train\""
   ]
  },
  {
   "cell_type": "code",
   "execution_count": 92,
   "metadata": {},
   "outputs": [],
   "source": [
    "image_tiler = SceneTiler(TRAIN / \"images\", (256, 256))\n",
    "target_tiler = SceneTiler(TRAIN / \"gt\", (256, 256))\n",
    "\n",
    "image_tiler.tile()\n",
    "target_tiler.tile()"
   ]
  },
  {
   "cell_type": "code",
   "execution_count": 94,
   "metadata": {},
   "outputs": [
    {
     "data": {
      "text/plain": [
       "18.0"
      ]
     },
     "execution_count": 94,
     "metadata": {},
     "output_type": "execute_result"
    }
   ],
   "source": [
    "(2 * 5 * 36 * 3) / 60"
   ]
  },
  {
   "cell_type": "code",
   "execution_count": null,
   "metadata": {},
   "outputs": [],
   "source": []
  }
 ],
 "metadata": {
  "kernelspec": {
   "display_name": "ml",
   "language": "python",
   "name": "python3"
  },
  "language_info": {
   "codemirror_mode": {
    "name": "ipython",
    "version": 3
   },
   "file_extension": ".py",
   "mimetype": "text/x-python",
   "name": "python",
   "nbconvert_exporter": "python",
   "pygments_lexer": "ipython3",
   "version": "3.9.15"
  },
  "orig_nbformat": 4
 },
 "nbformat": 4,
 "nbformat_minor": 2
}
